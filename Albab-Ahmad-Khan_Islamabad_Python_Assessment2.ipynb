{
 "cells": [
  {
   "cell_type": "code",
   "execution_count": 267,
   "metadata": {
    "collapsed": false
   },
   "outputs": [
    {
     "name": "stdout",
     "output_type": "stream",
     "text": [
      "['Date', 'id', 'Time', 'Age', 'Sex', 'Consulting..Doctor', 'Specialty', 'Procedure', 'Total..Charges', 'Amount..Received.', 'Amount..Balance', 'Amount.Received.By', 'Amount.in.Hospital', 'Receptionist..Name', 'Next.Apt']\n",
      "\n",
      "\n"
     ]
    },
    {
     "data": {
      "text/html": [
       "<div>\n",
       "<table border=\"1\" class=\"dataframe\">\n",
       "  <thead>\n",
       "    <tr style=\"text-align: right;\">\n",
       "      <th></th>\n",
       "      <th>Date</th>\n",
       "      <th>id</th>\n",
       "      <th>Time</th>\n",
       "      <th>Age</th>\n",
       "      <th>Sex</th>\n",
       "      <th>ConsultingDoctor</th>\n",
       "      <th>Specialty</th>\n",
       "      <th>Procedure</th>\n",
       "      <th>TotalCharges</th>\n",
       "      <th>AmountReceived</th>\n",
       "      <th>AmountBalance</th>\n",
       "      <th>AmountReceivedBy</th>\n",
       "      <th>AmountinHospital</th>\n",
       "      <th>ReceptionistName</th>\n",
       "      <th>NextApt</th>\n",
       "    </tr>\n",
       "  </thead>\n",
       "  <tbody>\n",
       "    <tr>\n",
       "      <th>0</th>\n",
       "      <td>Sunday, January 01, 2017</td>\n",
       "      <td>101</td>\n",
       "      <td>11:00</td>\n",
       "      <td>40</td>\n",
       "      <td>F</td>\n",
       "      <td>Dr Kinza Alam</td>\n",
       "      <td>Gynae</td>\n",
       "      <td>C Section</td>\n",
       "      <td>30000</td>\n",
       "      <td>30000.0</td>\n",
       "      <td>-</td>\n",
       "      <td>Mrs Shamsa</td>\n",
       "      <td>NaN</td>\n",
       "      <td>Hamza</td>\n",
       "      <td>NaN</td>\n",
       "    </tr>\n",
       "    <tr>\n",
       "      <th>1</th>\n",
       "      <td>Monday, January 02, 2017</td>\n",
       "      <td>150</td>\n",
       "      <td>10:45AM</td>\n",
       "      <td>26</td>\n",
       "      <td>M</td>\n",
       "      <td>Nursing Staff</td>\n",
       "      <td>NaN</td>\n",
       "      <td>Dressing</td>\n",
       "      <td>1500</td>\n",
       "      <td>1500.0</td>\n",
       "      <td>-</td>\n",
       "      <td>Dr Saniya</td>\n",
       "      <td>NaN</td>\n",
       "      <td>Haris</td>\n",
       "      <td>NaN</td>\n",
       "    </tr>\n",
       "    <tr>\n",
       "      <th>2</th>\n",
       "      <td>Monday, January 02, 2017</td>\n",
       "      <td>58</td>\n",
       "      <td>12:38PM</td>\n",
       "      <td>30</td>\n",
       "      <td>F</td>\n",
       "      <td>Dr Riffat Naheed</td>\n",
       "      <td>Psychotherapist</td>\n",
       "      <td>Consultation</td>\n",
       "      <td>1000</td>\n",
       "      <td>1000.0</td>\n",
       "      <td>-</td>\n",
       "      <td>Mrs Shamsa</td>\n",
       "      <td>300.0</td>\n",
       "      <td>Fiza</td>\n",
       "      <td>NaN</td>\n",
       "    </tr>\n",
       "    <tr>\n",
       "      <th>3</th>\n",
       "      <td>Monday, January 02, 2017</td>\n",
       "      <td>75</td>\n",
       "      <td>1:00PM</td>\n",
       "      <td>40</td>\n",
       "      <td>M</td>\n",
       "      <td>Dr Riffat Naheed</td>\n",
       "      <td>Psychotherapist</td>\n",
       "      <td>Consultation</td>\n",
       "      <td>1500</td>\n",
       "      <td>1500.0</td>\n",
       "      <td>-</td>\n",
       "      <td>Mrs Shamsa</td>\n",
       "      <td>450.0</td>\n",
       "      <td>Zaheer</td>\n",
       "      <td>NaN</td>\n",
       "    </tr>\n",
       "    <tr>\n",
       "      <th>4</th>\n",
       "      <td>Monday, January 02, 2017</td>\n",
       "      <td>97</td>\n",
       "      <td>2:45PM</td>\n",
       "      <td>27</td>\n",
       "      <td>M</td>\n",
       "      <td>Dr Riffat Naheed</td>\n",
       "      <td>Psychotherapist</td>\n",
       "      <td>Consultation</td>\n",
       "      <td>2000</td>\n",
       "      <td>2000.0</td>\n",
       "      <td>-</td>\n",
       "      <td>Mrs Shamsa</td>\n",
       "      <td>600.0</td>\n",
       "      <td>Haris</td>\n",
       "      <td>NaN</td>\n",
       "    </tr>\n",
       "  </tbody>\n",
       "</table>\n",
       "</div>"
      ],
      "text/plain": [
       "                       Date   id     Time Age Sex  ConsultingDoctor  \\\n",
       "0  Sunday, January 01, 2017  101    11:00  40   F     Dr Kinza Alam   \n",
       "1  Monday, January 02, 2017  150  10:45AM  26   M     Nursing Staff   \n",
       "2  Monday, January 02, 2017   58  12:38PM  30   F  Dr Riffat Naheed   \n",
       "3  Monday, January 02, 2017   75   1:00PM  40   M  Dr Riffat Naheed   \n",
       "4  Monday, January 02, 2017   97   2:45PM  27   M  Dr Riffat Naheed   \n",
       "\n",
       "         Specialty     Procedure TotalCharges  AmountReceived AmountBalance  \\\n",
       "0            Gynae     C Section        30000         30000.0          -      \n",
       "1              NaN      Dressing         1500          1500.0          -      \n",
       "2  Psychotherapist  Consultation         1000          1000.0          -      \n",
       "3  Psychotherapist  Consultation         1500          1500.0          -      \n",
       "4  Psychotherapist  Consultation         2000          2000.0          -      \n",
       "\n",
       "  AmountReceivedBy  AmountinHospital ReceptionistName NextApt  \n",
       "0      Mrs Shamsa                NaN            Hamza     NaN  \n",
       "1       Dr Saniya                NaN            Haris     NaN  \n",
       "2      Mrs Shamsa              300.0             Fiza     NaN  \n",
       "3      Mrs Shamsa              450.0           Zaheer     NaN  \n",
       "4      Mrs Shamsa              600.0            Haris     NaN  "
      ]
     },
     "execution_count": 267,
     "metadata": {},
     "output_type": "execute_result"
    }
   ],
   "source": [
    "# Question no.1 \n",
    "#Please remove the dots in the names, so it may become easier for you to work through it. \n",
    "\n",
    "import pandas as pd\n",
    "import csv\n",
    "import re\n",
    "data= pd.read_csv(\"hospitaldata.csv\")\n",
    "print list(data)\n",
    "print (\"\\n\")\n",
    "data.head()\n",
    "data.columns = data.columns.str.replace(\".\",\"\")\n",
    "data.head()"
   ]
  },
  {
   "cell_type": "code",
   "execution_count": 236,
   "metadata": {
    "collapsed": false
   },
   "outputs": [
    {
     "name": "stdout",
     "output_type": "stream",
     "text": [
      "Monday 51\n"
     ]
    }
   ],
   "source": [
    "# Question no.2 \n",
    "# Which day of the week is expected to have most visits?\n",
    "\n",
    "subdf = pd.DataFrame(df.Date.str.split(',',1).tolist(),columns = ['Day', 'Date'])\n",
    "most_freq_visit = max(subdf.Day.value_counts().iteritems(), key=lambda x: x[1]) \n",
    "print most_freq_visit[0], most_freq_visit[1]"
   ]
  },
  {
   "cell_type": "code",
   "execution_count": 209,
   "metadata": {
    "collapsed": false
   },
   "outputs": [
    {
     "name": "stdout",
     "output_type": "stream",
     "text": [
      "Index([u'Date', u'id', u'Time', u'Age', u'Sex', u'ConsultingDoctor',\n",
      "       u'Specialty', u'Procedure', u'TotalCharges', u'AmountReceived',\n",
      "       u'AmountBalance', u'AmountReceivedBy', u'AmountinHospital',\n",
      "       u'ReceptionistName', u'NextApt'],\n",
      "      dtype='object')\n",
      "0       40\n",
      "1       26\n",
      "2       30\n",
      "3       40\n",
      "4       27\n",
      "5       40\n",
      "6       43\n",
      "7       28\n",
      "8        2\n",
      "9       40\n",
      "10      32\n",
      "11      28\n",
      "12      76\n",
      "13      75\n",
      "14      36\n",
      "15      42\n",
      "16      23\n",
      "17      48\n",
      "18      25\n",
      "19      50\n",
      "20      60\n",
      "21      NA\n",
      "22      NA\n",
      "23      26\n",
      "24      27\n",
      "25      NA\n",
      "26      57\n",
      "27     NaN\n",
      "28      39\n",
      "29       6\n",
      "      ... \n",
      "192     45\n",
      "193     17\n",
      "194     22\n",
      "195     30\n",
      "196     17\n",
      "197     38\n",
      "198     17\n",
      "199     34\n",
      "200     28\n",
      "201     78\n",
      "202     56\n",
      "203     53\n",
      "204     21\n",
      "205     17\n",
      "206    NaN\n",
      "207     78\n",
      "208      3\n",
      "209     76\n",
      "210      9\n",
      "211     32\n",
      "212    NaN\n",
      "213     NA\n",
      "214     24\n",
      "215      3\n",
      "216     76\n",
      "217    NaN\n",
      "218     39\n",
      "219     30\n",
      "220     76\n",
      "221     45\n",
      "Name: Age, dtype: object\n",
      "32.734375\n"
     ]
    }
   ],
   "source": [
    "# Question no. 3\n",
    "#What is the average age of patients?\n",
    "\n",
    "import pandas as pd\n",
    "import numpy as np\n",
    "df = data\n",
    "print df.columns\n",
    "x= df['Age'] \n",
    "print x.replace(\"-\", \"NA\")\n",
    "xupdated = pd.to_numeric(x, errors='coerce')\n",
    "print np.mean(xupdated)\n"
   ]
  },
  {
   "cell_type": "code",
   "execution_count": 210,
   "metadata": {
    "collapsed": false
   },
   "outputs": [
    {
     "name": "stdout",
     "output_type": "stream",
     "text": [
      "23\n"
     ]
    }
   ],
   "source": [
    "#Question no. 4\n",
    "# How many children were entertained? (Make a Bracket of Age from 1-12)\n",
    "\n",
    "import pandas as pd\n",
    "df = data\n",
    "x= df['Age'] \n",
    "x.replace(\"-\", \"NA\")\n",
    "xupdated = pd.to_numeric(x, errors='coerce')\n",
    "four = list(filter(lambda x: x < 12, xupdated))\n",
    "print len(four)"
   ]
  },
  {
   "cell_type": "code",
   "execution_count": 211,
   "metadata": {
    "collapsed": false
   },
   "outputs": [
    {
     "name": "stdout",
     "output_type": "stream",
     "text": [
      "Sex  Specialty         \n",
      "-    Child Specialist       1\n",
      "F    Dentist               57\n",
      "     Gynae                 13\n",
      "     M/o                    7\n",
      "     Orthopedic             5\n",
      "     Psychotherapist        4\n",
      "     Child Specialist       3\n",
      "     Radiologist            3\n",
      "     General Surgeon        2\n",
      "     Dental                 1\n",
      "     ENT                    1\n",
      "     Medical Specialist     1\n",
      "M    Dentist               46\n",
      "     Psychotherapist       10\n",
      "     M/o                    8\n",
      "     Child Specialist       7\n",
      "     Orthopedic             3\n",
      "     Radiologist            3\n",
      "     General Surgeon        2\n",
      "     Medical Specialist     2\n",
      "     Anaesthetist           1\n",
      "     Dermatologist          1\n",
      "Name: Specialty, dtype: int64\n"
     ]
    }
   ],
   "source": [
    "#Question no. 5\n",
    "#Which gender type had what kind of procedure in abundance? i.e. Female visit mostly because of Gynae Problem\n",
    "\n",
    "df['Sex'] = map(lambda x: str(x).upper(), df['Sex'])\n",
    "print df.groupby(['Sex']).Specialty.value_counts()\n"
   ]
  },
  {
   "cell_type": "code",
   "execution_count": 212,
   "metadata": {
    "collapsed": false
   },
   "outputs": [
    {
     "name": "stdout",
     "output_type": "stream",
     "text": [
      "Dr Alaf Khan  earns  513050.0\n"
     ]
    }
   ],
   "source": [
    "#Question no. 6\n",
    "# Which Doctor is earning highest?\n",
    "\n",
    "df['TotalCharges'] = pd.to_numeric(df['TotalCharges'], errors='coerce')\n",
    "print df.groupby(['ConsultingDoctor']).TotalCharges.aggregate(np.sum).idxmax(), \" earns \", df.groupby(['ConsultingDoctor']).TotalCharges.aggregate(np.sum).max()"
   ]
  },
  {
   "cell_type": "code",
   "execution_count": 213,
   "metadata": {
    "collapsed": false
   },
   "outputs": [
    {
     "name": "stdout",
     "output_type": "stream",
     "text": [
      "\n",
      "Orthodontics  earns  240000.0\n"
     ]
    }
   ],
   "source": [
    "# Question no. 7\n",
    "# Which procedure type earns more money?\n",
    "df['TotalCharges'] = pd.to_numeric(df['TotalCharges'], errors='coerce')\n",
    "print \n",
    "print df.groupby(['Procedure']).TotalCharges.aggregate(np.sum).idxmax(), \" earns \", df.groupby(['Procedure']).TotalCharges.aggregate(np.sum).max()"
   ]
  },
  {
   "cell_type": "code",
   "execution_count": 271,
   "metadata": {
    "collapsed": false
   },
   "outputs": [
    {
     "name": "stdout",
     "output_type": "stream",
     "text": [
      "['11:00AMAMAMAMAMAM' '10:45AM' '12:38PM' '1:00PM' '2:45PM' '3:00PM'\n",
      " '3:28PM' '3:45PM' '5:00PM' '5:30PM' '3:25PM' '6:10PM' '11:45PM' '12:40PM'\n",
      " '8:10PM' '8:30PM' '2:00PM' '12:30PM' '1:30PM' '' '8:15PM' nan '12:36PM'\n",
      " '2:30PM' '3:15PM' '5:20PM' '3:50PM' '6:00PM' '4:30PM' '02:00PM' '11:20AM'\n",
      " '8:00PM' '6:30PM' '9:00PM' '6:20PM' '11:25AM' '11:15AM' '1:10PM' '3:30PM'\n",
      " '6:15PM' '9:40PM' '12:00PM' '11:00AM' '10:15AM' '1:20PM' '12:15PM'\n",
      " '1:15PM' '4:50PM' '2:10PM' '12:50PM' '5:40PM' '6:45PM' '9:45PM' '5:35PM'\n",
      " '6:50PM' '1:40PM' '1:25PM' '4:45PM' '4:00PM' '7:30PM' '7:45PM' '2:15PM'\n",
      " '10:13AM' '2:40PM' '10:00AM' '9:30AM' '7:00PM' '4:20PM' '5:57PM' '7:15PM'\n",
      " '3:40PM' '7:02PM' '11:40AM' '4:10PM' '11:30AM' '10:15PM' '7:11PM'\n",
      " '10:10PM' '1:55PM' '1:50PM' '9:30PM' '12:20PM' '10:30PM' '7:10PM'\n",
      " '12:48PM' '7:05PM' '5:45PM' '7:40PM' '9:35PM' '10:00PM' '6:55PM' '9:00AM'\n",
      " '10:20AM' '11:20PM']\n"
     ]
    }
   ],
   "source": [
    "# Question no. 8\n",
    "# Which time of the day has highest frequency of visits by hour?\n",
    "print df.Time.unique()"
   ]
  },
  {
   "cell_type": "code",
   "execution_count": 272,
   "metadata": {
    "collapsed": false
   },
   "outputs": [
    {
     "name": "stderr",
     "output_type": "stream",
     "text": [
      "C:\\Users\\albab.ahmad\\AppData\\Local\\Continuum\\Anaconda2\\lib\\site-packages\\ipykernel\\__main__.py:3: SettingWithCopyWarning: \n",
      "A value is trying to be set on a copy of a slice from a DataFrame\n",
      "\n",
      "See the caveats in the documentation: http://pandas.pydata.org/pandas-docs/stable/indexing.html#indexing-view-versus-copy\n",
      "  app.launch_new_instance()\n"
     ]
    },
    {
     "ename": "ValueError",
     "evalue": "unconverted data remains: AMAMAMAMAMAM",
     "output_type": "error",
     "traceback": [
      "\u001b[1;31m---------------------------------------------------------------------------\u001b[0m",
      "\u001b[1;31mValueError\u001b[0m                                Traceback (most recent call last)",
      "\u001b[1;32m<ipython-input-272-40a2fcf831ea>\u001b[0m in \u001b[0;36m<module>\u001b[1;34m()\u001b[0m\n\u001b[0;32m      4\u001b[0m \u001b[0mdf\u001b[0m\u001b[1;33m.\u001b[0m\u001b[0mTime\u001b[0m \u001b[1;33m=\u001b[0m \u001b[0mdf\u001b[0m\u001b[1;33m.\u001b[0m\u001b[0mTime\u001b[0m\u001b[1;33m.\u001b[0m\u001b[0mreplace\u001b[0m\u001b[1;33m(\u001b[0m\u001b[1;34m'-'\u001b[0m\u001b[1;33m,\u001b[0m\u001b[0mnp\u001b[0m\u001b[1;33m.\u001b[0m\u001b[0mnan\u001b[0m\u001b[1;33m)\u001b[0m\u001b[1;33m\u001b[0m\u001b[0m\n\u001b[0;32m      5\u001b[0m \u001b[1;31m# Now we convert Time to standard time\u001b[0m\u001b[1;33m\u001b[0m\u001b[1;33m\u001b[0m\u001b[0m\n\u001b[1;32m----> 6\u001b[1;33m \u001b[0mdf\u001b[0m\u001b[1;33m.\u001b[0m\u001b[0mTime\u001b[0m \u001b[1;33m=\u001b[0m \u001b[0mpd\u001b[0m\u001b[1;33m.\u001b[0m\u001b[0mto_datetime\u001b[0m\u001b[1;33m(\u001b[0m\u001b[0mdf\u001b[0m\u001b[1;33m.\u001b[0m\u001b[0mTime\u001b[0m\u001b[1;33m,\u001b[0m\u001b[0mformat\u001b[0m \u001b[1;33m=\u001b[0m \u001b[1;34m'%I:%M%p'\u001b[0m\u001b[1;33m)\u001b[0m\u001b[1;33m\u001b[0m\u001b[0m\n\u001b[0m\u001b[0;32m      7\u001b[0m \u001b[0mdf\u001b[0m\u001b[1;33m[\u001b[0m\u001b[1;34m'Hour'\u001b[0m\u001b[1;33m]\u001b[0m \u001b[1;33m=\u001b[0m\u001b[0mdf\u001b[0m\u001b[1;33m.\u001b[0m\u001b[0mTime\u001b[0m\u001b[1;33m.\u001b[0m\u001b[0mdt\u001b[0m\u001b[1;33m.\u001b[0m\u001b[0mhour\u001b[0m\u001b[1;33m\u001b[0m\u001b[0m\n\u001b[0;32m      8\u001b[0m \u001b[0mdf\u001b[0m\u001b[1;33m[\u001b[0m\u001b[1;34m'Hour'\u001b[0m\u001b[1;33m]\u001b[0m \u001b[1;33m=\u001b[0m \u001b[0mpd\u001b[0m\u001b[1;33m.\u001b[0m\u001b[0mto_numeric\u001b[0m\u001b[1;33m(\u001b[0m\u001b[0mdf\u001b[0m\u001b[1;33m.\u001b[0m\u001b[0mHour\u001b[0m\u001b[1;33m,\u001b[0m\u001b[0merrors\u001b[0m\u001b[1;33m=\u001b[0m\u001b[1;34m'coerce'\u001b[0m\u001b[1;33m)\u001b[0m\u001b[1;33m\u001b[0m\u001b[0m\n",
      "\u001b[1;32mC:\\Users\\albab.ahmad\\AppData\\Local\\Continuum\\Anaconda2\\lib\\site-packages\\pandas\\util\\decorators.pyc\u001b[0m in \u001b[0;36mwrapper\u001b[1;34m(*args, **kwargs)\u001b[0m\n\u001b[0;32m     89\u001b[0m                 \u001b[1;32melse\u001b[0m\u001b[1;33m:\u001b[0m\u001b[1;33m\u001b[0m\u001b[0m\n\u001b[0;32m     90\u001b[0m                     \u001b[0mkwargs\u001b[0m\u001b[1;33m[\u001b[0m\u001b[0mnew_arg_name\u001b[0m\u001b[1;33m]\u001b[0m \u001b[1;33m=\u001b[0m \u001b[0mnew_arg_value\u001b[0m\u001b[1;33m\u001b[0m\u001b[0m\n\u001b[1;32m---> 91\u001b[1;33m             \u001b[1;32mreturn\u001b[0m \u001b[0mfunc\u001b[0m\u001b[1;33m(\u001b[0m\u001b[1;33m*\u001b[0m\u001b[0margs\u001b[0m\u001b[1;33m,\u001b[0m \u001b[1;33m**\u001b[0m\u001b[0mkwargs\u001b[0m\u001b[1;33m)\u001b[0m\u001b[1;33m\u001b[0m\u001b[0m\n\u001b[0m\u001b[0;32m     92\u001b[0m         \u001b[1;32mreturn\u001b[0m \u001b[0mwrapper\u001b[0m\u001b[1;33m\u001b[0m\u001b[0m\n\u001b[0;32m     93\u001b[0m     \u001b[1;32mreturn\u001b[0m \u001b[0m_deprecate_kwarg\u001b[0m\u001b[1;33m\u001b[0m\u001b[0m\n",
      "\u001b[1;32mC:\\Users\\albab.ahmad\\AppData\\Local\\Continuum\\Anaconda2\\lib\\site-packages\\pandas\\tseries\\tools.pyc\u001b[0m in \u001b[0;36mto_datetime\u001b[1;34m(arg, errors, dayfirst, yearfirst, utc, box, format, exact, coerce, unit, infer_datetime_format)\u001b[0m\n\u001b[0;32m    419\u001b[0m     \u001b[1;32melif\u001b[0m \u001b[0misinstance\u001b[0m\u001b[1;33m(\u001b[0m\u001b[0marg\u001b[0m\u001b[1;33m,\u001b[0m \u001b[0mABCSeries\u001b[0m\u001b[1;33m)\u001b[0m\u001b[1;33m:\u001b[0m\u001b[1;33m\u001b[0m\u001b[0m\n\u001b[0;32m    420\u001b[0m         \u001b[1;32mfrom\u001b[0m \u001b[0mpandas\u001b[0m \u001b[1;32mimport\u001b[0m \u001b[0mSeries\u001b[0m\u001b[1;33m\u001b[0m\u001b[0m\n\u001b[1;32m--> 421\u001b[1;33m         \u001b[0mvalues\u001b[0m \u001b[1;33m=\u001b[0m \u001b[0m_convert_listlike\u001b[0m\u001b[1;33m(\u001b[0m\u001b[0marg\u001b[0m\u001b[1;33m.\u001b[0m\u001b[0m_values\u001b[0m\u001b[1;33m,\u001b[0m \u001b[0mFalse\u001b[0m\u001b[1;33m,\u001b[0m \u001b[0mformat\u001b[0m\u001b[1;33m)\u001b[0m\u001b[1;33m\u001b[0m\u001b[0m\n\u001b[0m\u001b[0;32m    422\u001b[0m         \u001b[1;32mreturn\u001b[0m \u001b[0mSeries\u001b[0m\u001b[1;33m(\u001b[0m\u001b[0mvalues\u001b[0m\u001b[1;33m,\u001b[0m \u001b[0mindex\u001b[0m\u001b[1;33m=\u001b[0m\u001b[0marg\u001b[0m\u001b[1;33m.\u001b[0m\u001b[0mindex\u001b[0m\u001b[1;33m,\u001b[0m \u001b[0mname\u001b[0m\u001b[1;33m=\u001b[0m\u001b[0marg\u001b[0m\u001b[1;33m.\u001b[0m\u001b[0mname\u001b[0m\u001b[1;33m)\u001b[0m\u001b[1;33m\u001b[0m\u001b[0m\n\u001b[0;32m    423\u001b[0m     \u001b[1;32melif\u001b[0m \u001b[0misinstance\u001b[0m\u001b[1;33m(\u001b[0m\u001b[0marg\u001b[0m\u001b[1;33m,\u001b[0m \u001b[1;33m(\u001b[0m\u001b[0mABCDataFrame\u001b[0m\u001b[1;33m,\u001b[0m \u001b[0mMutableMapping\u001b[0m\u001b[1;33m)\u001b[0m\u001b[1;33m)\u001b[0m\u001b[1;33m:\u001b[0m\u001b[1;33m\u001b[0m\u001b[0m\n",
      "\u001b[1;32mC:\\Users\\albab.ahmad\\AppData\\Local\\Continuum\\Anaconda2\\lib\\site-packages\\pandas\\tseries\\tools.pyc\u001b[0m in \u001b[0;36m_convert_listlike\u001b[1;34m(arg, box, format, name, tz)\u001b[0m\n\u001b[0;32m    411\u001b[0m                 \u001b[1;32mreturn\u001b[0m \u001b[0mDatetimeIndex\u001b[0m\u001b[1;33m.\u001b[0m\u001b[0m_simple_new\u001b[0m\u001b[1;33m(\u001b[0m\u001b[0mvalues\u001b[0m\u001b[1;33m,\u001b[0m \u001b[0mname\u001b[0m\u001b[1;33m=\u001b[0m\u001b[0mname\u001b[0m\u001b[1;33m,\u001b[0m \u001b[0mtz\u001b[0m\u001b[1;33m=\u001b[0m\u001b[0mtz\u001b[0m\u001b[1;33m)\u001b[0m\u001b[1;33m\u001b[0m\u001b[0m\n\u001b[0;32m    412\u001b[0m             \u001b[1;32mexcept\u001b[0m \u001b[1;33m(\u001b[0m\u001b[0mValueError\u001b[0m\u001b[1;33m,\u001b[0m \u001b[0mTypeError\u001b[0m\u001b[1;33m)\u001b[0m\u001b[1;33m:\u001b[0m\u001b[1;33m\u001b[0m\u001b[0m\n\u001b[1;32m--> 413\u001b[1;33m                 \u001b[1;32mraise\u001b[0m \u001b[0me\u001b[0m\u001b[1;33m\u001b[0m\u001b[0m\n\u001b[0m\u001b[0;32m    414\u001b[0m \u001b[1;33m\u001b[0m\u001b[0m\n\u001b[0;32m    415\u001b[0m     \u001b[1;32mif\u001b[0m \u001b[0marg\u001b[0m \u001b[1;32mis\u001b[0m \u001b[0mNone\u001b[0m\u001b[1;33m:\u001b[0m\u001b[1;33m\u001b[0m\u001b[0m\n",
      "\u001b[1;31mValueError\u001b[0m: unconverted data remains: AMAMAMAMAMAM"
     ]
    }
   ],
   "source": [
    "# Question no. 9\n",
    "# Create a bracket of time by Morning, Afternoon, Evening, Night\n",
    "df.Time [0] = df.Time[0] + \"AM\"\n",
    "df.Time = df.Time.replace('-',np.nan)\n",
    "# Now we convert Time to standard time\n",
    "df.Time = pd.to_datetime(df.Time,format = '%I:%M%p')\n",
    "df['Hour'] =df.Time.dt.hour\n",
    "df['Hour'] = pd.to_numeric(df.Hour,errors='coerce')\n",
    "\n",
    "def getBracket(time):\n",
    "    d = pd.to_datetime(time)\n",
    "    if time >=pd.to_datetime('1900-01-01 06:00:00') and time <=pd.to_datetime('1900-01-01 12:00:00'):\n",
    "        return 'Morning'\n",
    "    elif time >=pd.to_datetime('1900-01-01 12:00:00') and time <=pd.to_datetime('1900-01-01 16:00:00'):\n",
    "        return 'Afternoon'\n",
    "    elif time >=pd.to_datetime('1900-01-01 16:00:00') and time <=pd.to_datetime('1900-01-01 19:00:00'):\n",
    "        return 'Evening'\n",
    "    elif (time >=pd.to_datetime('1900-01-01 19:00:00') and time <=pd.to_datetime('1900-01-01 23:00:00'))or(time >=pd.to_datetime('1900-01-01 00:00:00') and time <=pd.to_datetime('1900-01-01 06:00:00')):\n",
    "        return 'Evening'\n",
    "\n",
    "\n",
    "# Now creating another column\n",
    "mask = (df.Hour.notnull())\n",
    "\n",
    "df['Bracket'] = df[mask].apply(lambda x: getBracket(x['Time']),axis=1)\n",
    "\n",
    "df[['Time','Hour','Bracket']].head()\n"
   ]
  },
  {
   "cell_type": "code",
   "execution_count": 258,
   "metadata": {
    "collapsed": false
   },
   "outputs": [
    {
     "name": "stdout",
     "output_type": "stream",
     "text": [
      "37\n"
     ]
    }
   ],
   "source": [
    "# Question 10.\n",
    "#  How many patients are repeated visitors?\n",
    "print sum(df['id'].value_counts() > 1)\n"
   ]
  },
  {
   "cell_type": "code",
   "execution_count": 217,
   "metadata": {
    "collapsed": false
   },
   "outputs": [
    {
     "name": "stdout",
     "output_type": "stream",
     "text": [
      "[1, 4, 12, 13, 17, 20, 25, 40, 45, 46, 59, 63, 64, 80, 88, 94, 96, 97, 100, 101, 107, 109, 112, 114, 116, 118, 120, 122, 130, 132, 133, 140, 145, 149, 150, 151, 153]\n"
     ]
    }
   ],
   "source": [
    "# Question 11.\n",
    "# Give us the id of repeated visitors.\n",
    "from collections import Counter\n",
    "freqs = Counter(df['id'])\n",
    "mynewlist = []\n",
    "for i in freqs:\n",
    "    if freqs[i]>1:\n",
    "        mynewlist.append(i)\n",
    "print mynewlist\n",
    "    "
   ]
  },
  {
   "cell_type": "code",
   "execution_count": 247,
   "metadata": {
    "collapsed": false
   },
   "outputs": [
    {
     "name": "stdout",
     "output_type": "stream",
     "text": [
      "id   Specialty      \n",
      "12   Dentist            2\n",
      "13   Orthopedic         2\n",
      "17   Dentist            2\n",
      "25   Gynae              2\n",
      "40   Dentist            2\n",
      "45   Dentist            3\n",
      "63   Dentist            2\n",
      "88   Dentist            2\n",
      "96   Dentist            2\n",
      "97   Psychotherapist    2\n",
      "100  Dentist            2\n",
      "101  Gynae              3\n",
      "107  Dentist            2\n",
      "109  Dentist            3\n",
      "112  Orthopedic         2\n",
      "114  Gynae              3\n",
      "116  Dentist            2\n",
      "120  M/o                2\n",
      "130  Psychotherapist    2\n",
      "132  Dentist            3\n",
      "140  Dentist            4\n",
      "145  Dentist            3\n",
      "149  Dentist            2\n",
      "151  Dentist            2\n",
      "153  Dentist            2\n",
      "Name: Specialty, dtype: int64\n"
     ]
    }
   ],
   "source": [
    "# Question 12\n",
    "# Which patients visited again for the same problem?\n",
    "a = df.groupby(['id']).Specialty.value_counts()\n",
    "print a[a > 1]\n",
    "# print (Counter(df['id']) > 1) "
   ]
  },
  {
   "cell_type": "code",
   "execution_count": 219,
   "metadata": {
    "collapsed": false
   },
   "outputs": [
    {
     "name": "stdout",
     "output_type": "stream",
     "text": [
      "30.0\n"
     ]
    }
   ],
   "source": [
    "# Question 13\n",
    "# What is the median age for Females and Males?\n",
    "#import statistics\n",
    "df['Age'] = pd.to_numeric(df['Age'], errors='coerce')\n",
    "list(filter(lambda x: x != \"\", df[\"Sex\"]))\n",
    "df.groupby(['id'])\n",
    "Median = np.nanmedian(df[\"Age\"])\n",
    "print Median"
   ]
  },
  {
   "cell_type": "code",
   "execution_count": 220,
   "metadata": {
    "collapsed": false
   },
   "outputs": [
    {
     "name": "stdout",
     "output_type": "stream",
     "text": [
      "[nan '14000.00' '3000.00' '90000.00' '22000.00' '500']\n",
      "222500.0\n"
     ]
    }
   ],
   "source": [
    "df['Age']\n",
    "# Question 14\n",
    "# What is the total amount in balance?\n",
    "df['AmountBalance'] = df['AmountBalance'].replace(\"-\", np.nan, regex=True)\n",
    "df['AmountBalance'] = df['AmountBalance'].replace(\"nan\", np.nan)\n",
    "df['AmountBalance'] = df['AmountBalance'].replace(\",\", \"\", regex=True)\n",
    "print df['AmountBalance'].unique()\n",
    "df['AmountBalance'] = df['AmountBalance'].astype(float)\n",
    "print np.nansum(df['AmountBalance'])"
   ]
  },
  {
   "cell_type": "code",
   "execution_count": 221,
   "metadata": {
    "collapsed": false
   },
   "outputs": [
    {
     "name": "stdout",
     "output_type": "stream",
     "text": [
      "786350.0\n"
     ]
    }
   ],
   "source": [
    "# Question 15\n",
    "# How much money was made by Procedure Type \"Consultation\"?\n",
    "df['TotalCharges'] = df['TotalCharges'].astype(float)\n",
    "list(filter(lambda x: x == \"Consultation\", df['Procedure'])) \n",
    "print np.nansum(df['TotalCharges'])"
   ]
  },
  {
   "cell_type": "code",
   "execution_count": 222,
   "metadata": {
    "collapsed": false
   },
   "outputs": [
    {
     "data": {
      "text/html": [
       "<div>\n",
       "<table border=\"1\" class=\"dataframe\">\n",
       "  <thead>\n",
       "    <tr style=\"text-align: right;\">\n",
       "      <th></th>\n",
       "      <th>Age</th>\n",
       "      <th>TotalCharges</th>\n",
       "    </tr>\n",
       "  </thead>\n",
       "  <tbody>\n",
       "    <tr>\n",
       "      <th>Age</th>\n",
       "      <td>1.00000</td>\n",
       "      <td>0.02809</td>\n",
       "    </tr>\n",
       "    <tr>\n",
       "      <th>TotalCharges</th>\n",
       "      <td>0.02809</td>\n",
       "      <td>1.00000</td>\n",
       "    </tr>\n",
       "  </tbody>\n",
       "</table>\n",
       "</div>"
      ],
      "text/plain": [
       "                  Age  TotalCharges\n",
       "Age           1.00000       0.02809\n",
       "TotalCharges  0.02809       1.00000"
      ]
     },
     "execution_count": 222,
     "metadata": {},
     "output_type": "execute_result"
    }
   ],
   "source": [
    "#Question 16\n",
    "# Is there a relation between Age and Total Charges paid?\n",
    "df['Age'] = df['Age'].astype(float)\n",
    "df['TotalCharges']= df['TotalCharges'].astype(float)\n",
    "age_total_charge = df[[\"Age\", \"TotalCharges\"]]\n",
    "age_total_charge.corr()"
   ]
  },
  {
   "cell_type": "code",
   "execution_count": 223,
   "metadata": {
    "collapsed": false
   },
   "outputs": [
    {
     "name": "stdout",
     "output_type": "stream",
     "text": [
      "[(1, 12)]\n"
     ]
    }
   ],
   "source": [
    "#Question 17\n",
    "# Which Age group had highest number of visits?\n",
    "from collections import Counter\n",
    "df.groupby(['Age'])\n",
    "list(filter(lambda x: x != \"NA\", df['Age'])) \n",
    "freqs = Counter(df['id']).most_common(1)\n",
    "print freqs\n"
   ]
  },
  {
   "cell_type": "code",
   "execution_count": 233,
   "metadata": {
    "collapsed": false
   },
   "outputs": [
    {
     "data": {
      "text/plain": [
       "22300.0"
      ]
     },
     "execution_count": 233,
     "metadata": {},
     "output_type": "execute_result"
    }
   ],
   "source": [
    "#Question 18\n",
    "#What is the total cost earned by Procedure Type X Ray and Scalling together?\n",
    "df['TotalCharges'] = df['TotalCharges'].astype(float)\n",
    "df1 = df[(df[\"Procedure\"] == \"X Ray\") | (df[\"Procedure\"] == \"Scalling\")][\"TotalCharges\"]\n",
    "np.nansum(df1)"
   ]
  },
  {
   "cell_type": "code",
   "execution_count": null,
   "metadata": {
    "collapsed": true
   },
   "outputs": [],
   "source": []
  }
 ],
 "metadata": {
  "kernelspec": {
   "display_name": "Python 2",
   "language": "python",
   "name": "python2"
  },
  "language_info": {
   "codemirror_mode": {
    "name": "ipython",
    "version": 2
   },
   "file_extension": ".py",
   "mimetype": "text/x-python",
   "name": "python",
   "nbconvert_exporter": "python",
   "pygments_lexer": "ipython2",
   "version": "2.7.13"
  }
 },
 "nbformat": 4,
 "nbformat_minor": 2
}
